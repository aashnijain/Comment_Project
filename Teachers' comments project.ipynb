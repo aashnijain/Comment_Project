{
 "cells": [
  {
   "cell_type": "code",
   "execution_count": 109,
   "metadata": {
    "collapsed": false
   },
   "outputs": [
    {
     "name": "stdout",
     "output_type": "stream",
     "text": [
      "[['Lauren', 'F', '4', '4', '4', '4', '97', '93', '95', '98', '95', '96.5', '98', '92', '95', '97', '95.875'], ['Jack', 'M', '2', '2', '3', '4', '78', '82', '80', '68', '70', '69', '86', '80', '83', '87', '79.75'], ['Jason', 'NB', '3', '2', '3', '3', '92', '82', '87', '90', '93', '91.5', '91', '92', '91.5', '90', '90'], ['Elizabeth', 'F', '1', '1', '4', '4', '88', '90', '89', '84', '87', '85.5', '86', '90', '88', '84', '86.625']]\n"
     ]
    }
   ],
   "source": [
    "import csv\n",
    "students=[]\n",
    "with open('teacher.csv') as csvfile:\n",
    "    comment_info=csv.reader(csvfile, delimiter=',')\n",
    "    header=next(comment_info)\n",
    "    for row in comment_info:\n",
    "        students.append(row)\n",
    "print(students)"
   ]
  },
  {
   "cell_type": "code",
   "execution_count": 113,
   "metadata": {
    "collapsed": false
   },
   "outputs": [
   ],
   "source": [
    "#Daisy\n",
    "def stu_pronoun(row, string):\n",
    "    '''Takes in a student's information and generates their pronouns; also takes in a string and replaces placeholders with pronouns'''\n",
    "    name = row[0]\n",
    "    pronoun = ''\n",
    "    pronoun_plural = ''\n",
    "    pronoun_personal = ''\n",
    "    indefinite = ''\n",
    "    be = ''\n",
    "    if row[1] == 'M':\n",
    "        pronoun = 'he'\n",
    "        pronoun_personal = 'him'\n",
    "        indefinite = 'his'\n",
    "        pronoun_plural = 's'\n",
    "        be = 'is'\n",
    "    elif row[1] == 'F':\n",
    "        pronoun = 'she'\n",
    "        pronoun_personal = 'her'\n",
    "        indefinite = 'her'\n",
    "        pronoun_plural = 's'\n",
    "        be = 'is'\n",
    "    else:\n",
    "        pronoun = 'they'\n",
    "        pronoun_personal = 'them'\n",
    "        indefinite = 'their'\n",
    "        pronoun_plural = ''\n",
    "        be = 'are'\n",
    "    string = string.replace('[stu]', name)\n",
    "    string = string.replace('[pro]', pronoun)\n",
    "    string = string.replace('[Pro]', pronoun.capitalize())\n",
    "    string = string.replace('[plural]', pronoun_plural)\n",
    "    string = string.replace('[pp]', pronoun_personal)\n",
    "    string = string.replace('[in]', indefinite)\n",
    "    string = string.replace('[In]', indefinite.capitalize())\n",
    "    string = string.replace('[be]', be)\n",
    "    return string"
   ]
  },
  {
   "cell_type": "code",
   "execution_count": 114,
   "metadata": {
    "collapsed": false,
    "scrolled": true
   },
   "outputs": [
    {
     "name": "stdout",
     "output_type": "stream",
     "text": [
      "Lauren is excellent at collaborating with her peers by brainstorming and discussing with them before asking for help from us. She is a focused and diligent worker. Her attention to detail and drive to write code creatively has made her stand out as a strong student in this class so far. Lauren has no trouble asking for help when she gets stuck on something. We want to support all our students as teachers, and she has demonstrated clearly that she will use us as guides after having attempted on her own. Lauren has been very intentional throughout this semester in identifying challenges and finding unique ways to overcome them.\n",
      "\n",
      "Jack has been a very quiet student in our class this year. Often, he seems to work alone and we think that working more with his peers on questions that seem hard would help him to excel in this class. Through our observation, He is struggling to complete his work on time, as well as taking on challenge to write code creatively. Jack has little trouble asking questions in class when we explain certain concepts, but if needed he should not be afraid to seek individual help. We are always willing to support our students in any way we can. Jack has been very intentional throughout this semester in identifying challenges and finding unique ways to overcome them.\n",
      "\n",
      "Jason is an effective and active collaborator this semester, and I think they should continue to use this skill to help their with challenging questions before asking for guidance. Through our observation, They are struggling to complete their work on time, as well as taking on challenge to write code creatively. Jason has little trouble asking questions in class when we explain certain concepts, but if needed they should not be afraid to seek individual help. We are always willing to support our students in any way we can. Jason has taken initiative throughout the semester to work through difficulties in code. Jason should know that it is okay to talk to us if things are taking a longer time than anticipated.\n",
      "\n",
      "Elizabeth has been a very quiet student in our class this year. Often, she seems to work alone and we think that working more with her peers on questions that seem hard would help her to excel in this class. Through our observation, She is struggling to complete her work on time, as well as taking on challenge to write code creatively. Elizabeth has no trouble asking for help when she gets stuck on something. We want to support all our students as teachers, and she has demonstrated clearly that she will use us as guides after having attempted on her own. Elizabeth has been very intentional throughout this semester in identifying challenges and finding unique ways to overcome them.\n",
      "\n"
     ]
    }
   ],
   "source": [
    "#Aashni\n",
    "comment=''\n",
    "commentlist=[]\n",
    "def qualities(row):\n",
    "    '''Takes in a student's information and returns a comment specific to them based on their good qualities and things that they could improve on'''\n",
    "    if row[2]=='4':\n",
    "        goodcollab = '[stu] is excellent at collaborating with [pp] peers by brainstorming and discussing with them before asking for help from us. '\n",
    "        comment=goodcollab\n",
    "    if row[2]=='3':\n",
    "        domorecollab = '[stu] is an effective and active collaborator this semester, and I think [pro] should continue to use this skill to help [in] with challenging questions before asking for guidance. '\n",
    "        comment=domorecollab\n",
    "    if row[2]<'3':\n",
    "        improvecollab = '[stu] has been a very quiet student in our class this year. Often, [pro] seems to work alone and we think that working more with [in] peers on questions that seem hard would help [pp] to excel in this class. '\n",
    "        comment=improvecollab\n",
    "    if row[3]=='4':\n",
    "        goodethic = '[Pro] [be] a focused and diligent worker. [In] attention to detail and drive to write code creatively has made [pp] stand out as a strong student in this class so far. '\n",
    "        comment=comment+goodethic\n",
    "    if row[3]=='3':\n",
    "        domoreethic= '[Pro] [be] taken a lot of initiative to work on time as well as take on challenges when wrtiing code. '\n",
    "        comment=comment+domoreethic\n",
    "    if row[3]<'3':\n",
    "        improveethic='Through our observation, [Pro] [be] struggling to complete [in] work on time, as well as taking on challenge to write code creatively. '\n",
    "        comment=comment+improveethic\n",
    "    if row[4]=='4':\n",
    "        goodcuriosity= '[stu] has no trouble asking for help when [pro] gets stuck on something. We want to support all our students as teachers, and [pro] has demonstrated clearly that [pro] will use us as guides after having attempted on [in] own. '\n",
    "        comment=comment+goodcuriosity\n",
    "    if row[4]=='3':\n",
    "        domorequestions= '[stu] has little trouble asking questions in class when we explain certain concepts, but if needed [pro] should not be afraid to seek individual help. We are always willing to support our students in any way we can. '\n",
    "        comment=comment+domorequestions\n",
    "    if row[4]<'3':\n",
    "        improvequestions='This semester, we have not gotten many questions from [stu] with regards to assignments and problem sets. We are always willing to support our students in any way that we can and we hope that [pro] will use this to [in] advantage throughout the rest of the semester. '\n",
    "        comment=comment+improvequestions\n",
    "    if row[5]=='4':\n",
    "        goodattitude= '[stu] has been very intentional throughout this semester in identifying challenges and finding unique ways to overcome them.'\n",
    "        comment=comment+goodattitude\n",
    "    if row[5]=='3':\n",
    "        domoreattitude='[stu] has taken initiative throughout the semester to work through difficulties in code. [stu] should know that it is okay to talk to us if things are taking a longer time than anticipated.'\n",
    "        comment=comment+domoreattitude\n",
    "    if row[5]<'3':\n",
    "        improveattitude='We recognize that coding is a difficult subject, and that students are bound to have difficulties. One of the things that we believe would help [stu] to thrive throughout the rest of the semester is working around frustration step by step. Often, it is just a matter of slowing down.'\n",
    "        comment=comment+improveattitude\n",
    "    studentcomment=stu_pronoun(row,comment)\n",
    "    commentlist.append(studentcomment)\n",
    "    for comment in commentlist:\n",
    "        return studentcomment+'\\n'\n",
    "\n",
    "with open('teacher.csv') as f:\n",
    "    header = f.readline()\n",
    "    for line in f:\n",
    "        print(qualities(line.strip().split(',')))"
   ]
  },
  {
   "cell_type": "code",
   "execution_count": 95,
   "metadata": {
    "collapsed": false
   },
   "outputs": [
    {
     "name": "stdout",
     "output_type": "stream",
     "text": [
      "This semester, the computer science class had six units, from basic tools such as strings, creating lists, dictionaries, and using loops, to writing functions and incorporating different functions into solving practical problems. The curriculum was getting more and more challenging throughout the semster. Lauren gets for her final grade, 95.875, which coverts to A. Congrats! We are so proud for her!\n",
      "This semester, the computer science class had six units, from basic tools such as strings, creating lists, dictionaries, and using loops, to writing functions and incorporating different functions into solving practical problems. The curriculum was getting more and more challenging throughout the semster. Jack gets for his final grade, 79.75, which converts to C+. He did try.\n",
      "This semester, the computer science class had six units, from basic tools such as strings, creating lists, dictionaries, and using loops, to writing functions and incorporating different functions into solving practical problems. The curriculum was getting more and more challenging throughout the semster. Jason gets for their final grade, 90, which converts to A-. Well-done!\n",
      "This semester, the computer science class had six units, from basic tools such as strings, creating lists, dictionaries, and using loops, to writing functions and incorporating different functions into solving practical problems. The curriculum was getting more and more challenging throughout the semster. Elizabeth gets for her final grade, 86.625, which converts to B. We can see her efforts.\n"
     ]
    }
   ],
   "source": [
    "#Daisy\n",
    "def final_grades(row):\n",
    "    '''Provides a description of the course; Takes in a student's information and returns a comment specific to them on their work in the semester overall'''\n",
    "    general_comment = 'This semester, the computer science class had six units, from basic tools such as strings, creating lists, dictionaries, and using loops, to writing functions and incorporating different functions into solving practical problems.'\n",
    "    opening = \" The curriculum was getting more and more challenging throughout the semster\"\n",
    "    percentage = float(row[16])\n",
    "    if percentage >= 93:\n",
    "        lettergrade = ', which coverts to A. Congrats! We are so proud for [pp]!'\n",
    "    elif percentage >= 90:\n",
    "        lettergrade=', which converts to A-. Well-done!'\n",
    "    elif percentage >= 87:\n",
    "        lettergrade=', which converts to B+. You made it through!'\n",
    "    elif percentage >= 83:\n",
    "        lettergrade=', which converts to B. We can see [in] efforts.'\n",
    "    elif percentage >= 80:\n",
    "        lettergrade=', which converts to B-. We can see [in] efforts.'\n",
    "    elif percentage >= 77:\n",
    "        lettergrade=', which converts to C+. [Pro] did try.'\n",
    "    elif percentage >= 73:\n",
    "        lettergrade=', which converts to C. [Pro] did try.'\n",
    "    elif percentage >= 70:\n",
    "        lettergrade=', which converts to C-. [Pro] did try.'\n",
    "    else:\n",
    "        lettergrade=', which converts to F. We are sorry for [pp]. '\n",
    "\n",
    "    overallet = general_comment + opening + '. ' + row[0] +' gets for [in] final grade, '+ row[16]+ lettergrade \n",
    "    overallet = stu_pronoun(row, overallet)\n",
    "    return overallet\n",
    "with open('teacher.csv') as f:\n",
    "    header = f.readline()\n",
    "    for line in f:\n",
    "        print(final_grades(line.strip().split(',')))"
   ]
  },
  {
   "cell_type": "code",
   "execution_count": 89,
   "metadata": {
    "collapsed": false
   },
   "outputs": [
    {
     "name": "stdout",
     "output_type": "stream",
     "text": [
      "Lauren is doing superb in tests!  She got a 96.5 overall! \n",
      "Jack tends to struggle a bit in tests. He got a 69 overall. In particular, the score 68 made us concerned. \n",
      "Jason performs well in tests! They got a 91.5 overall. \n",
      "It seems that Elizabeth is doing ok in tests. She got a 85.5 overall. \n"
     ]
    }
   ],
   "source": [
    "#Daisy\n",
    "def comment_for_tests (row):\n",
    "    '''Takes in a student's information and returns a comment specific to them on their work on tests as well as their grade'''\n",
    "    comment = ''\n",
    "    particular_comment = ''\n",
    "    if int(float(row[11])) >= 93:\n",
    "        comment = row[0] + ' is doing superb in tests!  [Pro] got a ' + row[11] + ' overall! '\n",
    "    elif int(float(row[11])) >= 90:\n",
    "        comment = row[0] + ' performs well in tests! [Pro] got a ' + row[11] + ' overall. '\n",
    "    elif int(float(row[11])) >= 85:\n",
    "        comment = 'It seems that ' + row[0] + ' is doing ok in tests. [Pro] got a ' + row[11] + ' overall. '\n",
    "    elif int(int(float(row[11]))) >= 80:\n",
    "        comment = row[0] + ' can catch up the class pace. [Pro] got a ' + row[11] + ' overall. '\n",
    "    elif int(int(float(row[11]))) <80:\n",
    "        comment = row[0] + ' tends to struggle a bit in tests. [Pro] got a ' + row[11] + ' overall. '\n",
    "        for i in row[9:10]:\n",
    "            if int(i) < 80:\n",
    "                particular_comment = \"In particular, \" + \"the score \"+ i + \" made us concerned. \"\n",
    "\n",
    "    comment = comment + particular_comment\n",
    "    comment = stu_pronoun(row, comment)\n",
    "    \n",
    "    return comment\n",
    "\n",
    "            \n",
    "with open('teacher.csv') as f:\n",
    "    header = f.readline()\n",
    "    for line in f:\n",
    "        print(comment_for_tests(line.strip().split(',')))"
   ]
  },
  {
   "cell_type": "code",
   "execution_count": 90,
   "metadata": {
    "collapsed": false
   },
   "outputs": [
    {
     "name": "stdout",
     "output_type": "stream",
     "text": [
      "It seems that she did stellar work in her problem sets. \n",
      "It seems that he might need more help in his problem sets. \n",
      "It seems that they are doing ok in their problem sets. \n",
      "It seems that she is doing ok in her problem sets. \n"
     ]
    }
   ],
   "source": [
    "#Daisy\n",
    "def comment_for_ps(row):\n",
    "    '''Takes in a student's information and returns a comment specific to them on their work on problem sets'''\n",
    "    particular = \"\"\n",
    "    if int(float(row[8])) >= 93:\n",
    "        thecomment = ' did stellar work'\n",
    "    elif int(float(row[8])) >= 90:\n",
    "        thecomment = ' really worked hard'\n",
    "    elif int(float(row[8])) >= 85:\n",
    "        thecomment = ' [be] doing ok'\n",
    "    elif int(int(float(row[8]))) >= 80:\n",
    "        thecomment = ' might need more help'\n",
    "    elif int(int(float(row[8]))) <80:\n",
    "        for each in row[6:7]:\n",
    "            if each < 80:\n",
    "                particular = \"Particularly the\" + index[each]\n",
    "        thecomment = ' struggles' + particular\n",
    "\n",
    "    commentforps = 'It seems that [pro]' + thecomment + ' in [in] problem sets. '\n",
    "    \n",
    "    commentforps = stu_pronoun(row, commentforps)\n",
    "    return commentforps\n",
    "\n",
    "with open('teacher.csv') as csvfile:\n",
    "    header = csvfile.readline()\n",
    "    for line in csvfile:\n",
    "        print(comment_for_ps(line.strip().split(',')))"
   ]
  },
  {
   "cell_type": "code",
   "execution_count": 91,
   "metadata": {
    "collapsed": false
   },
   "outputs": [
    {
     "name": "stdout",
     "output_type": "stream",
     "text": [
      "Also, we did some partner projects, Lauren collaborates so well! She is definitely a helpful partner!\n",
      "Also, we did some partner projects, Jack should take on more responsibility. Relying too much on others is not a good habit in improving his skills.\n",
      "Also, we did some partner projects, Jason are doing great overall! We are proud that they enjoyed doing the project!\n",
      "Also, we did some partner projects, Elizabeth is doing ok overall. I hope to see more communications in her collaboration with her partner.\n"
     ]
    }
   ],
   "source": [
    "#Daisy\n",
    "def comment_for_project(row):\n",
    "    '''Takes in a student's information and returns a comment specific to them on their work on partner projects'''\n",
    "    if int(float(row[11])) >= 93:\n",
    "        projectcomment = \"Also, we did some partner projects, \" + row[0]+ ' collaborate[plural] so well! [Pro] is definitely a helpful partner!'\n",
    "    elif int(float(row[11])) >= 90:\n",
    "        projectcomment = \"Also, we did some partner projects, \" + row[0]+ ' [be] doing great overall! We are proud that [pro] enjoyed doing the project!'\n",
    "    elif int(float(row[11])) >= 85:\n",
    "        projectcomment = 'Also, we did some partner projects, ' + row[0] + ' [be] doing ok overall. I hope to see more communications in [in] collaboration with [in] partner.'\n",
    "    elif int(int(float(row[11]))) >= 80:\n",
    "        projectcoment = \"Also, we did some partner projects, \" + row[0] +'  might need more collaboration.'\n",
    "    else:\n",
    "        projectcomment = \"Also, we did some partner projects, \" + row[0] +' should take on more responsibility. Relying too much on others is not a good habit in improving [in] skills.'\n",
    "\n",
    "    projectcomment = stu_pronoun(row, projectcomment)\n",
    "\n",
    "    return projectcomment\n",
    "\n",
    "with open('teacher.csv') as f:\n",
    "    header = f.readline()\n",
    "    for line in f:\n",
    "        print(comment_for_project(line.strip().split(',')))"
   ]
  },
  {
   "cell_type": "code",
   "execution_count": 92,
   "metadata": {
    "collapsed": false
   },
   "outputs": [
    {
     "name": "stdout",
     "output_type": "stream",
     "text": [
      "Her science research project about new ways of training neural networks shows her deep understanding in machine learning. We really enjoy having her this semester! Hope she will continue pursuing her passion in computer science in college! \n",
      "Unlike his other classmates, Jack had very little knowledge in coding coming in class. Regarding the curriculum is getting more challenging toward the end of the year, we are glad to see Jack’s improvement throughout the semester. Although due to his schedule, Jack will not continue learning computer science next spring, we hope he can keep the positivity in all his academics! \n",
      "We are pleased to see Jason’s progress this semester! Jason listened carefully in class, seeked help when they needed it. Although Jason said they struggled in the beginning, we were glad that they caught up quickly. Jason is such a creative coder that they use an innovative approach in his second project that printed the expected results in succinct codes. \n",
      "Elizabeth is a hard-worker. Being one of the few sophomores in class, she is a relatively quiet but respectful listener in class. Her two projects impressed us by how well she combined the knowledge from different units together. \n"
     ]
    }
   ],
   "source": [
    "#Daisy\n",
    "def specific(row):\n",
    "    '''Takes in a student's information and returns an additional comment specific to them'''\n",
    "    if row[0] == \"Lauren\":\n",
    "        specific_comment = \"Her science research project about new ways of training neural networks shows her deep understanding in machine learning. We really enjoy having her this semester! Hope she will continue pursuing her passion in computer science in college! \"\n",
    "    if row[0] == \"Jack\":\n",
    "        specific_comment = \"Unlike his other classmates, Jack had very little knowledge in coding coming in class. Regarding the curriculum is getting more challenging toward the end of the year, we are glad to see Jack’s improvement throughout the semester. Although due to his schedule, Jack will not continue learning computer science next spring, we hope he can keep the positivity in all his academics! \"\n",
    "    if row[0] == \"Jason\":\n",
    "        specific_comment = \"We are pleased to see Jason’s progress this semester! Jason listened carefully in class, seeked help when they needed it. Although Jason said they struggled in the beginning, we were glad that they caught up quickly. Jason is such a creative coder that they use an innovative approach in his second project that printed the expected results in succinct codes. \"\n",
    "    if  row[0] == \"Elizabeth\":\n",
    "        specific_comment =  \"Elizabeth is a hard-worker. Being one of the few sophomores in class, she is a relatively quiet but respectful listener in class. Her two projects impressed us by how well she combined the knowledge from different units together. \"\n",
    "    return specific_comment\n",
    "\n",
    "with open('teacher.csv') as csvfile:\n",
    "    header = csvfile.readline()\n",
    "    for line in csvfile:\n",
    "        print(specific(line.strip().split(',')))"
   ]
  },
  {
   "cell_type": "code",
   "execution_count": 93,
   "metadata": {
    "collapsed": false
   },
   "outputs": [
    {
     "name": "stdout",
     "output_type": "stream",
     "text": [
      "As Lauren's teachers, we really enjoyed having her as part of our computer science class. Good luck in her other academics!\n",
      "As Jack's teachers, we really enjoyed having him as part of our computer science class. Good luck in his other academics!\n",
      "As Jason's teachers, we really enjoyed having them as part of our computer science class. Good luck in their other academics!\n",
      "As Elizabeth's teachers, we really enjoyed having her as part of our computer science class. Good luck in her other academics!\n"
     ]
    }
   ],
   "source": [
    "#Daisy\n",
    "def conclusion(row):\n",
    "    '''Takes in a student's information to return a concluding statement of appreciation for each student'''\n",
    "    ending = \"As \" + row[0] + \"'s teachers, we really enjoyed having [pp] as part of our computer science class. Good luck in [in] other academics!\"\n",
    "    ending = stu_pronoun(row, ending)\n",
    "    return ending\n",
    "with open('teacher.csv') as csvfile:\n",
    "    header = csvfile.readline()\n",
    "    for line in csvfile:\n",
    "        print(conclusion(line.strip().split(',')))"
   ]
  },
  {
   "cell_type": "code",
   "execution_count": 111,
   "metadata": {
    "collapsed": false
   },
   "outputs": [
    {
     "name": "stdout",
     "output_type": "stream",
     "text": [
      "This semester, the computer science class had six units, from basic tools such as strings, creating lists, dictionaries, and using loops, to writing functions and incorporating different functions into solving practical problems. The curriculum was getting more and more challenging throughout the semster. Lauren gets for her final grade, 95.875, which coverts to A. Congrats! We are so proud for her!\n",
      "\n",
      "Lauren is doing superb in tests!  She got a 96.5 overall!It seems that she did stellar work in her problem sets.Also, we did some partner projects, Lauren collaborates so well! She is definetely a helpful partner!\n",
      "\n",
      "Lauren is excellent at collaborating with her peers by brainstorming and discussing with them before asking for help from us. She is a focused and diligent worker. Her attention to detail and drive to write code creatively has made her stand out as a strong student in this class so far. Lauren has no trouble asking for help when she gets stuck on something. We want to support all our students as teachers, and she has demonstrated clearly that she will use us as guides after having attempted on her own. Lauren has been very intentional throughout this semester in identifying challenges and finding unique ways to overcome them.\n",
      "\n",
      "Her science research project about new ways of training neural networks shows her deep understanding in machine learning. We really enjoy having her this semester! Hope she will continue pursuing her passion in computer science in college!As Lauren's teachers, we really enjoyed having her as part of our computer science class. Good luck in her other academics!\n"
     ]
    }
   ],
   "source": [
    "#Aashni\n",
    "#This cell creates a file for each student with their comment in it.\n",
    "commentfiles=['student1comment.txt','student2comment.txt','student3comment.txt','student4comment.txt']\n",
    "for i in range(len(commentfiles)):\n",
    "    with open(commentfiles[i],'w') as student:\n",
    "        student.write(final_grades(students[i])+'\\n\\n')\n",
    "        student.write(comment_for_tests(students[i]))\n",
    "        student.write(comment_for_ps(students[i]))\n",
    "        student.write(comment_for_project(students[i])+'\\n\\n')\n",
    "        student.write(qualities(students[i])+'\\n')\n",
    "        student.write(specific(students[i]))\n",
    "        student.write(conclusion(students[i]))\n",
    "\n",
    "for line in open('student1comment.txt'):\n",
    "    print(line.strip())"
   ]
  },
  {
   "cell_type": "code",
   "execution_count": 0,
   "metadata": {
    "collapsed": false
   },
   "outputs": [
   ],
   "source": [
    "#EVERYTHING PAST THIS POINT IS OUR OLD WORK. WE DID NOT END UP USING THE FUNCTIONS BELOW THIS IN OUR FINAL PRODUCTS."
   ]
  },
  {
   "cell_type": "code",
   "execution_count": 110,
   "metadata": {
    "collapsed": false
   },
   "outputs": [
    {
     "name": "stdout",
     "output_type": "stream",
     "text": [
      "This semester, the computer science class had six units, from basic tools such as strings, creating lists, dictionaries, and using loops, to writing functions and incorporating different functions into solving practical problems. The curriculum was getting more and more challenging throughout the semster. Lauren gets for her final grade, 95.875, which coverts to A. Congrats! We are so proud for her!\n",
      "Lauren is doing superb in tests!  She got a 96.5 overall!\n",
      "It seems that she did stellar work in her problem sets.\n",
      "Also, we did some partner projects, Lauren collaborates so well! She is definetely a helpful partner!\n",
      "Lauren is excellent at collaborating with her peers by brainstorming and discussing with them before asking for help from us. She is a focused and diligent worker. Her attention to detail and drive to write code creatively has made her stand out as a strong student in this class so far. Lauren has no trouble asking for help when she gets stuck on something. We want to support all our students as teachers, and she has demonstrated clearly that she will use us as guides after having attempted on her own. Lauren has been very intentional throughout this semester in identifying challenges and finding unique ways to overcome them.\n",
      "\n",
      "Her science research project about new ways of training neural networks shows her deep understanding in machine learning. We really enjoy having her this semester! Hope she will continue pursuing her passion in computer science in college!\n",
      "As Lauren's teachers, we really enjoyed having her as part of our computer science class. Good luck in her other academics!\n",
      "\n",
      "This semester, the computer science class had six units, from basic tools such as strings, creating lists, dictionaries, and using loops, to writing functions and incorporating different functions into solving practical problems. The curriculum was getting more and more challenging throughout the semster. Jack gets for his final grade, 79.75, which converts to C+. He did try.\n",
      "Jack tries but struggles a bit in tests. He got a 69 overall. In particular, the score 68 made us concern.\n",
      "It seems that he might need more help in his problem sets.\n",
      "Also, we did some partner projects, Jack should take on more responsibility. Relying on others is not a good habit in improving his skills.\n",
      "Jack has been a very quiet student in our class this year. Often, he seems to work alone and we think that working more with his peers on questions that seem hard would help him to excel in this class. Through our observation, He is struggling to complete his work on time, as well as taking on challenge to write code creatively. Jack has little trouble asking questions in class when we explain certain concepts, but if needed he should not be afraid to seek individual help. We are always willing to support our students in any way we can. Jack has been very intentional throughout this semester in identifying challenges and finding unique ways to overcome them.\n",
      "\n",
      "Unlike his other classmates, Jack had very little knowledge in coding coming in class. Regarding the curriculum is getting more challenging toward the end of the year, we are glad to see Jack’s improvement throughout the semester. Although due to his schedule, Jack will not continue learning computer science next spring, we hope he can keep the positivity in all his academics!\n",
      "As Jack's teachers, we really enjoyed having him as part of our computer science class. Good luck in his other academics!\n",
      "\n",
      "This semester, the computer science class had six units, from basic tools such as strings, creating lists, dictionaries, and using loops, to writing functions and incorporating different functions into solving practical problems. The curriculum was getting more and more challenging throughout the semster. Jason gets for their final grade, 90, which converts to A-. Well-done!\n",
      "Jason performs well in tests! They got a 91.5 overall.\n",
      "It seems that they are doing ok in their problem sets.\n",
      "Also, we did some partner projects, Jason are doing great overall! We are proud that they enjoyed doing the project!\n",
      "Jason is an effective and active collaborator this semester, and I think they should continue to use this skill to help him with challenging questions before asking for guidance. Through our observation, They are struggling to complete their work on time, as well as taking on challenge to write code creatively. Jason has little trouble asking questions in class when we explain certain concepts, but if needed they should not be afraid to seek individual help. We are always willing to support our students in any way we can. Jason has taken initiative throughout the semester to work through difficulties in code. Jason should know that it is okay to talk to us if things are taking a longer time than anticipated.\n",
      "\n",
      "We are pleased to see Jason’s progress this semester! Jason listened carefully in class, seeked help when they needed it. Although Jason said they struggled in the beginning, we were glad that they caught up quickly. Jason is such a creative coder that they use an innovative approach in their second project that printed the expected results in succinct codes.\n",
      "As Jason's teachers, we really enjoyed having them as part of our computer science class. Good luck in their other academics!\n",
      "\n",
      "This semester, the computer science class had six units, from basic tools such as strings, creating lists, dictionaries, and using loops, to writing functions and incorporating different functions into solving practical problems. The curriculum was getting more and more challenging throughout the semster. Elizabeth gets for her final grade, 86.625, which converts to B. We can see her efforts.\n",
      "It seems that Elizabeth is doing ok in tests. She got a 85.5 overall.\n",
      "It seems that she is doing ok in her problem sets.\n",
      "Also, we did some partner projects, Elizabeth is doing ok overall. We hope to see more communications in her collaboration with her partner.\n",
      "Elizabeth has been a very quiet student in our class this year. Often, she seems to work alone and we think that working more with her peers on questions that seem hard would help her to excel in this class. Through our observation, She is struggling to complete her work on time, as well as taking on challenge to write code creatively. Elizabeth has no trouble asking for help when she gets stuck on something. We want to support all our students as teachers, and she has demonstrated clearly that she will use us as guides after having attempted on her own. Elizabeth has been very intentional throughout this semester in identifying challenges and finding unique ways to overcome them.\n",
      "\n",
      "Elizabeth is a hard-worker. Being one of the few sophomores in class, she is a relatively quiet but respectful listener in class. Her works impressed us by how well she could combine knowledge from different units together!\n",
      "As Elizabeth's teachers, we really enjoyed having her as part of our computer science class. Good luck in her other academics!\n",
      "\n"
     ]
    }
   ],
   "source": [
    "#Daisy \n",
    "#combined comments\n",
    "def final_grades(row):\n",
    "    general_comment = 'This semester, the computer science class had six units, from basic tools such as strings, creating lists, dictionaries, and using loops, to writing functions and incorporating different functions into solving practical problems.'\n",
    "    opening = \" The curriculum was getting more and more challenging throughout the semster\"\n",
    "    percentage = float(row[16])\n",
    "    if percentage >= 93:\n",
    "        lettergrade = ', which coverts to A. Congrats! We are so proud for [pp]!'\n",
    "    elif percentage >= 90:\n",
    "        lettergrade=', which converts to A-. Well-done!'\n",
    "    elif percentage >= 87:\n",
    "        lettergrade=', which converts to B+. You made it through!'\n",
    "    elif percentage >= 83:\n",
    "        lettergrade=', which converts to B. We can see [in] efforts.'\n",
    "    elif percentage >= 80:\n",
    "        lettergrade=', which converts to B-. We can see [in] efforts.'\n",
    "    elif percentage >= 77:\n",
    "        lettergrade=', which converts to C+. [Pro] did try.'\n",
    "    elif percentage >= 73:\n",
    "        lettergrade=', which converts to C. [Pro] did try.' \n",
    "    elif percentage >= 70:\n",
    "        lettergrade=', which converts to C-. [Pro] did try.'   \n",
    "    else:\n",
    "        lettergrade=', which converts to F. We are sorry for [pp].'\n",
    "\n",
    "    overallet = general_comment + opening + '. ' + row[0] +' gets for [in] final grade, '+ row[16]+ lettergrade \n",
    "    overallet = stu_pronoun(row, overallet)\n",
    "    return overallet\n",
    "\n",
    "def comment_for_tests (row):\n",
    "    comment = ''\n",
    "    particular_comment = ''\n",
    "    if int(float(row[11])) >= 93:\n",
    "        comment = row[0] + ' is doing superb in tests!  [Pro] got a ' + row[11] + ' overall!'\n",
    "    elif int(float(row[11])) >= 90:\n",
    "        comment = row[0] + ' performs well in tests! [Pro] got a ' + row[11] + ' overall.'\n",
    "    elif int(float(row[11])) >= 85:\n",
    "        comment = 'It seems that ' + row[0] + ' is doing ok in tests. [Pro] got a ' + row[11] + ' overall.'\n",
    "    elif int(int(float(row[11]))) >= 80:\n",
    "        comment = row[0] + ' can catch up the class pace. [Pro] got a ' + row[11] + ' overall.'\n",
    "    elif int(int(float(row[11]))) <80:\n",
    "        comment = row[0] + ' tries but struggles a bit in tests. [Pro] got a ' + row[11] + ' overall.'\n",
    "        for i in row[9:10]:\n",
    "            if int(i) < 80:\n",
    "                particular_comment = \" In particular, \" + \"the score \"+ i + \" made us concern.\"\n",
    "\n",
    "    comment = comment + particular_comment    \n",
    "    comment = stu_pronoun(row, comment)\n",
    "    \n",
    "    return comment\n",
    "\n",
    "def comment_for_ps(row):\n",
    "    particular = \"\"\n",
    "    if int(float(row[8])) >= 93:\n",
    "        thecomment = ' did stellar work'\n",
    "    elif int(float(row[8])) >= 90:\n",
    "        thecomment = ' really worked hard'\n",
    "    elif int(float(row[8])) >= 85:\n",
    "        thecomment = ' [be] doing ok'\n",
    "    elif int(int(float(row[8]))) >= 80:\n",
    "        thecomment = ' might need more help'\n",
    "    elif int(int(float(row[8]))) <80:\n",
    "        for each in row[6:7]:\n",
    "            if each < 80:\n",
    "                particular = \"Particularly the\" + index[each]\n",
    "        thecomment = ' struggles' + particular\n",
    "\n",
    "    commentforps = 'It seems that [pro]' + thecomment + ' in [in] problem sets.'\n",
    "    \n",
    "    commentforps = stu_pronoun(row, commentforps)\n",
    "    return commentforps\n",
    "\n",
    "def comment_for_project(row):\n",
    "    if int(float(row[11])) >= 93:\n",
    "        projectcomment = \"Also, we did some partner projects, \" + row[0]+ ' collaborate[plural] so well! [Pro] is definetely a helpful partner!'\n",
    "    elif int(float(row[11])) >= 90:\n",
    "        projectcomment = \"Also, we did some partner projects, \" + row[0]+ ' [be] doing great overall! We are proud that [pro] enjoyed doing the project!'\n",
    "    elif int(float(row[11])) >= 85:\n",
    "        projectcomment = 'Also, we did some partner projects, ' + row[0] + ' [be] doing ok overall. We hope to see more communications in [in] collaboration with [in] partner.'\n",
    "    elif int(int(float(row[11]))) >= 80:\n",
    "        projectcoment = \"Also, we did some partner projects, \" + row[0] +'  might need more collaboration.'\n",
    "    else:\n",
    "        projectcomment = \"Also, we did some partner projects, \" + row[0] +' should take on more responsibility. Relying on others is not a good habit in improving [in] skills.'\n",
    "        \n",
    "    projectcomment = stu_pronoun(row, projectcomment)\n",
    "    \n",
    "    return projectcomment\n",
    "\n",
    "def specific(row):\n",
    "    if row[0] == \"Lauren\":\n",
    "        specific_comment = \"Her science research project about new ways of training neural networks shows her deep understanding in machine learning. We really enjoy having her this semester! Hope she will continue pursuing her passion in computer science in college!\"\n",
    "    if row[0] == \"Jack\":\n",
    "        specific_comment = \"Unlike his other classmates, Jack had very little knowledge in coding coming in class. Regarding the curriculum is getting more challenging toward the end of the year, we are glad to see Jack’s improvement throughout the semester. Although due to his schedule, Jack will not continue learning computer science next spring, we hope he can keep the positivity in all his academics!\"\n",
    "    if row[0] == \"Jason\":\n",
    "        specific_comment = \"We are pleased to see Jason’s progress this semester! Jason listened carefully in class, seeked help when they needed it. Although Jason said they struggled in the beginning, we were glad that they caught up quickly. Jason is such a creative coder that they use an innovative approach in their second project that printed the expected results in succinct codes.\"\n",
    "    if  row[0] == \"Elizabeth\":\n",
    "        specific_comment =  \"Elizabeth is a hard-worker. Being one of the few sophomores in class, she is a relatively quiet but respectful listener in class. Her works impressed us by how well she could combine knowledge from different units together!\"\n",
    "    return specific_comment\n",
    "\n",
    "def conclusion(row):\n",
    "    ending = \"As \" + row[0] + \"'s teachers, we really enjoyed having [pp] as part of our computer science class. Good luck in [in] other academics!\"\n",
    "    ending = stu_pronoun(row, ending)\n",
    "    return ending\n",
    "\n",
    "with open('teacher.csv') as csvfile:\n",
    "    header = csvfile.readline()\n",
    "    for line in csvfile:\n",
    "        print(final_grades(line.strip().split(',')))\n",
    "        print(comment_for_tests(line.strip().split(',')))\n",
    "        print(comment_for_ps(line.strip().split(',')))\n",
    "        print(comment_for_project(line.strip().split(',')))\n",
    "        print(qualities(line.strip().split(',')))\n",
    "        print(specific(line.strip().split(',')))\n",
    "        print(conclusion(line.strip().split(',')))\n",
    "        print(\"\")"
   ]
  },
  {
   "cell_type": "code",
   "execution_count": 31,
   "metadata": {
    "collapsed": false
   },
   "outputs": [
    {
     "data": {
      "text/plain": [
       "['they', 'them', 'theirs']"
      ]
     },
     "execution_count": 31,
     "metadata": {
     },
     "output_type": "execute_result"
    }
   ],
   "source": [
    "#Aashni\n",
    "#Daisy: I think we should use the \"replace\" command because we also should consider the \"s\" at ending and capital cases, you can see my function\n",
    "def pronoun(name):\n",
    "    gender=[]\n",
    "    pronoun={}\n",
    "    for row in students:\n",
    "        if row[1]=='F':\n",
    "            pronoun[row[0]]=pronoun.get(row[0],[])+['she', 'her', 'hers']\n",
    "        elif row[1]=='M':\n",
    "            pronoun[row[0]]=pronoun.get(row[0],[])+['he', 'him', 'his']\n",
    "        elif row[1]=='NB':\n",
    "            pronoun[row[0]]=pronoun.get(row[0],[])+['they', 'them', 'theirs']\n",
    "    for key, value in pronoun.items():\n",
    "        if name==key:\n",
    "            return pronoun[key]\n",
    "\n",
    "pronoun('Jason')"
   ]
  },
  {
   "cell_type": "code",
   "execution_count": 15,
   "metadata": {
    "collapsed": false
   },
   "outputs": [
    {
     "name": "stdout",
     "output_type": "stream",
     "text": [
      "['excellent', 'excellent', 'excellent', 'excellent']\n",
      "['improvement', 'improvement', 'great', 'excellent']\n",
      "['great', 'improvement', 'great', 'great']\n",
      "['missing', 'missing', 'excellent', 'excellent']\n"
     ]
    }
   ],
   "source": [
    "#Daisy\n",
    "def qualities(row):\n",
    "    quality_dict = {'4':'excellent', '3':'great', '2':'improvement', '1':'missing'}\n",
    "    qualities = []\n",
    "    comment = ''\n",
    "    for i in row[2:6]:\n",
    "        qualities.append(quality_dict[i])\n",
    "    \n",
    "    return qualities\n",
    "\n",
    "\n",
    "with open('teacher.csv') as f:\n",
    "    header = f.readline()\n",
    "    for line in f:\n",
    "        print(qualities(line.strip().split(',')))"
   ]
  },
  {
   "cell_type": "code",
   "execution_count": 0,
   "metadata": {
    "collapsed": false
   },
   "outputs": [
   ],
   "source": [
   ]
  }
 ],
 "metadata": {
  "kernelspec": {
   "display_name": "Python 3 (system-wide)",
   "language": "python",
   "metadata": {
    "cocalc": {
     "description": "Python 3 programming language",
     "priority": 100,
     "url": "https://www.python.org/"
    }
   },
   "name": "python3"
  },
  "language_info": {
   "codemirror_mode": {
    "name": "ipython",
    "version": 3
   },
   "file_extension": ".py",
   "mimetype": "text/x-python",
   "name": "python",
   "nbconvert_exporter": "python",
   "pygments_lexer": "ipython3",
   "version": "3.6.9"
  }
 },
 "nbformat": 4,
 "nbformat_minor": 0
}