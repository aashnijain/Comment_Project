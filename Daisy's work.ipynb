{
 "cells": [
  {
   "cell_type": "code",
   "execution_count": 1,
   "metadata": {
    "collapsed": false
   },
   "outputs": [
    {
     "name": "stdout",
     "output_type": "stream",
     "text": [
      "[['Lauren', 'F', '4', '4', '4', '4', '97', '93', '95', '98', '95', '96.5', '98', '92', '95', '97', '95.875'], ['Jack', 'M', '2', '2', '3', '4', '78', '82', '80', '68', '70', '69', '86', '80', '83', '87', '79.75'], ['Jason', 'NB', '3', '2', '3', '3', '92', '82', '87', '90', '93', '91.5', '91', '92', '91.5', '90', '90'], ['Elizabeth', 'F', '1', '1', '4', '4', '88', '90', '89', '84', '87', '85.5', '86', '90', '88', '84', '86.625']]\n"
     ]
    }
   ],
   "source": [
    "import csv\n",
    "students=[]\n",
    "with open('teacher.csv') as csvfile:\n",
    "    comment_info=csv.reader(csvfile, delimiter=',')\n",
    "    header=next(comment_info)\n",
    "    for row in comment_info:\n",
    "        students.append(row)\n",
    "print(students)"
   ]
  },
  {
   "cell_type": "code",
   "execution_count": 2,
   "metadata": {
    "collapsed": false
   },
   "outputs": [
   ],
   "source": [
    "#Daisy\n",
    "def stu_pronoun(row, string):   \n",
    "    name = row[0]\n",
    "    pronoun = ''\n",
    "    pronoun_plural = ''\n",
    "    pronoun_personal = ''\n",
    "    indefinite = ''\n",
    "    be = ''\n",
    "    if row[1] == 'M':\n",
    "        pronoun = 'he'\n",
    "        pronoun_personal = 'him'\n",
    "        indefinite = 'his'\n",
    "        pronoun_plural = 's'\n",
    "        be = 'is'\n",
    "    elif row[1] == 'F':\n",
    "        pronoun = 'she'\n",
    "        pronoun_personal = 'her'\n",
    "        indefinite = 'her'\n",
    "        pronoun_plural = 's'\n",
    "        be = 'is'\n",
    "    else:\n",
    "        pronoun = 'they'\n",
    "        pronoun_personal = 'them'\n",
    "        indefinite = 'their'\n",
    "        pronoun_plural = ''\n",
    "        be = 'are'\n",
    "    string = string.replace('[stu]', name)\n",
    "    string = string.replace('[pro]', pronoun)\n",
    "    string = string.replace('[Pro]', pronoun.capitalize())\n",
    "    string = string.replace('[plural]', pronoun_plural)\n",
    "    string = string.replace('[pp]', pronoun_personal)\n",
    "    string = string.replace('[in]', indefinite)\n",
    "    string = string.replace('[be]', be)    \n",
    "    return string"
   ]
  },
  {
   "cell_type": "code",
   "execution_count": 3,
   "metadata": {
    "collapsed": false
   },
   "outputs": [
    {
     "name": "stdout",
     "output_type": "stream",
     "text": [
      "['excellent', 'excellent', 'excellent', 'excellent']\n",
      "['improvement', 'improvement', 'great', 'excellent']\n",
      "['great', 'improvement', 'great', 'great']\n",
      "['missing', 'missing', 'excellent', 'excellent']\n"
     ]
    }
   ],
   "source": [
    "#Daisy\n",
    "def qualities(row):\n",
    "    quality_dict = {'4':'excellent', '3':'great', '2':'improvement', '1':'missing'}\n",
    "    qualities = []\n",
    "    comment = ''\n",
    "    for i in row[2:6]:\n",
    "        qualities.append(quality_dict[i])\n",
    "    \n",
    "    return qualities\n",
    "\n",
    "\n",
    "with open('teacher.csv') as f:\n",
    "    header = f.readline()\n",
    "    for line in f:\n",
    "        print(qualities(line.strip().split(',')))"
   ]
  },
  {
   "cell_type": "code",
   "execution_count": 4,
   "metadata": {
    "collapsed": false
   },
   "outputs": [
    {
     "name": "stdout",
     "output_type": "stream",
     "text": [
      "This semester, the computer science class had six units, from basic tools such as strings, creating lists, dictionaries, and using loops, to writing functions and incorporating different functions into solving practical problems. The curriculum was getting more and more challenging throughout the semster. Lauren gets for her final grade, 95.875, which coverts to A. Congrats! We are so proud for her!\n",
      "This semester, the computer science class had six units, from basic tools such as strings, creating lists, dictionaries, and using loops, to writing functions and incorporating different functions into solving practical problems. The curriculum was getting more and more challenging throughout the semster. Jack gets for his final grade, 79.75, which converts to C+. He did try.\n",
      "This semester, the computer science class had six units, from basic tools such as strings, creating lists, dictionaries, and using loops, to writing functions and incorporating different functions into solving practical problems. The curriculum was getting more and more challenging throughout the semster. Jason gets for their final grade, 90, which converts to A-. Well-done!\n",
      "This semester, the computer science class had six units, from basic tools such as strings, creating lists, dictionaries, and using loops, to writing functions and incorporating different functions into solving practical problems. The curriculum was getting more and more challenging throughout the semster. Elizabeth gets for her final grade, 86.625, which converts to B. We can see her efforts.\n"
     ]
    }
   ],
   "source": [
    "#Daisy\n",
    "#overall letter grade \n",
    "def final_grades(row):\n",
    "    general_comment = 'This semester, the computer science class had six units, from basic tools such as strings, creating lists, dictionaries, and using loops, to writing functions and incorporating different functions into solving practical problems.'\n",
    "    opening = \" The curriculum was getting more and more challenging throughout the semster\"\n",
    "    percentage = float(row[16])\n",
    "    if percentage >= 93:\n",
    "        lettergrade = ', which coverts to A. Congrats! We are so proud for [pp]!'\n",
    "    elif percentage >= 90:\n",
    "        lettergrade=', which converts to A-. Well-done!'\n",
    "    elif percentage >= 87:\n",
    "        lettergrade=', which converts to B+. You made it through!'\n",
    "    elif percentage >= 83:\n",
    "        lettergrade=', which converts to B. We can see [in] efforts.'\n",
    "    elif percentage >= 80:\n",
    "        lettergrade=', which converts to B-. We can see [in] efforts.'\n",
    "    elif percentage >= 77:\n",
    "        lettergrade=', which converts to C+. [Pro] did try.'\n",
    "    elif percentage >= 73:\n",
    "        lettergrade=', which converts to C. [Pro] did try.' \n",
    "    elif percentage >= 70:\n",
    "        lettergrade=', which converts to C-. [Pro] did try.'   \n",
    "    else:\n",
    "        lettergrade=', which converts to F. We are sorry for [pp].'\n",
    "\n",
    "    overallet = general_comment + opening + '. ' + row[0] +' gets for [in] final grade, '+ row[16]+ lettergrade \n",
    "    overallet = stu_pronoun(row, overallet)\n",
    "    return overallet\n",
    "with open('teacher.csv') as f:\n",
    "    header = f.readline()\n",
    "    for line in f:\n",
    "        print(final_grades(line.strip().split(',')))\n",
    "        \n",
    "        "
   ]
  },
  {
   "cell_type": "code",
   "execution_count": 5,
   "metadata": {
    "collapsed": false
   },
   "outputs": [
    {
     "name": "stdout",
     "output_type": "stream",
     "text": [
      "Lauren is doing superb in tests!  She got a 96.5 overall!\n",
      "Jack tries but struggles a bit in tests. He got a 69 overall. In particular, the score 68 made us concern.\n",
      "Jason performs well in tests! They got a 91.5 overall.\n",
      "It seems that Elizabeth is doing ok in tests. She got a 85.5 overall.\n"
     ]
    }
   ],
   "source": [
    "#Daisy\n",
    "def comment_for_tests (row):\n",
    "    comment = ''\n",
    "    particular_comment = ''\n",
    "    if int(float(row[11])) >= 93:\n",
    "        comment = row[0] + ' is doing superb in tests!  [Pro] got a ' + row[11] + ' overall!'\n",
    "    elif int(float(row[11])) >= 90:\n",
    "        comment = row[0] + ' performs well in tests! [Pro] got a ' + row[11] + ' overall.'\n",
    "    elif int(float(row[11])) >= 85:\n",
    "        comment = 'It seems that ' + row[0] + ' is doing ok in tests. [Pro] got a ' + row[11] + ' overall.'\n",
    "    elif int(int(float(row[11]))) >= 80:\n",
    "        comment = row[0] + ' can catch up the class pace. [Pro] got a ' + row[11] + ' overall.'\n",
    "    elif int(int(float(row[11]))) <80:\n",
    "        comment = row[0] + ' tries but struggles a bit in tests. [Pro] got a ' + row[11] + ' overall.'\n",
    "        for i in row[9:10]:\n",
    "            if int(i) < 80:\n",
    "                particular_comment = \" In particular, \" + \"the score \"+ i + \" made us concern.\"\n",
    "\n",
    "    comment = comment + particular_comment    \n",
    "    comment = stu_pronoun(row, comment)\n",
    "    \n",
    "    return comment\n",
    "\n",
    "            \n",
    "with open('teacher.csv') as f:\n",
    "    header = f.readline()\n",
    "    for line in f:\n",
    "        print(comment_for_tests(line.strip().split(',')))"
   ]
  },
  {
   "cell_type": "code",
   "execution_count": 6,
   "metadata": {
    "collapsed": false
   },
   "outputs": [
    {
     "name": "stdout",
     "output_type": "stream",
     "text": [
      "It seems that she did stellar work in her problem sets.\n",
      "It seems that he might need more help in his problem sets.\n",
      "It seems that they are doing ok in their problem sets.\n",
      "It seems that she is doing ok in her problem sets.\n"
     ]
    }
   ],
   "source": [
    "#Daisy\n",
    "def comment_for_ps(row):\n",
    "    particular = \"\"\n",
    "    if int(float(row[8])) >= 93:\n",
    "        thecomment = ' did stellar work'\n",
    "    elif int(float(row[8])) >= 90:\n",
    "        thecomment = ' really worked hard'\n",
    "    elif int(float(row[8])) >= 85:\n",
    "        thecomment = ' [be] doing ok'\n",
    "    elif int(int(float(row[8]))) >= 80:\n",
    "        thecomment = ' might need more help'\n",
    "    elif int(int(float(row[8]))) <80:\n",
    "        for each in row[6:7]:\n",
    "            if each < 80:\n",
    "                particular = \"Particularly the\" + index[each]\n",
    "        thecomment = ' struggles' + particular\n",
    "\n",
    "    commentforps = 'It seems that [pro]' + thecomment + ' in [in] problem sets.'\n",
    "    \n",
    "    commentforps = stu_pronoun(row, commentforps)\n",
    "    return commentforps\n",
    "\n",
    "with open('teacher.csv') as csvfile:\n",
    "    header = csvfile.readline()\n",
    "    for line in csvfile:\n",
    "        print(comment_for_ps(line.strip().split(',')))"
   ]
  },
  {
   "cell_type": "code",
   "execution_count": 7,
   "metadata": {
    "collapsed": false
   },
   "outputs": [
    {
     "name": "stdout",
     "output_type": "stream",
     "text": [
      "Also, we did some partner projects, Lauren collaborates so well! She is definetely a helpful partner!\n",
      "Also, we did some partner projects, Jack should take on more responsibility. Relying on others is not a good habit in improving his skills.\n",
      "Also, we did some partner projects, Jason are doing great overall! We are proud that they enjoyed doing the project!\n",
      "Also, we did some partner projects, Elizabeth is doing ok overall. I hope to see more communications in her collaboration with her partner.\n"
     ]
    }
   ],
   "source": [
    "#Daisy\n",
    "def comment_for_project(row):\n",
    "    if int(float(row[11])) >= 93:\n",
    "        projectcomment = \"Also, we did some partner projects, \" + row[0]+ ' collaborate[plural] so well! [Pro] is definetely a helpful partner!'\n",
    "    elif int(float(row[11])) >= 90:\n",
    "        projectcomment = \"Also, we did some partner projects, \" + row[0]+ ' [be] doing great overall! We are proud that [pro] enjoyed doing the project!'\n",
    "    elif int(float(row[11])) >= 85:\n",
    "        projectcomment = 'Also, we did some partner projects, ' + row[0] + ' [be] doing ok overall. I hope to see more communications in [in] collaboration with [in] partner.'\n",
    "    elif int(int(float(row[11]))) >= 80:\n",
    "        projectcoment = \"Also, we did some partner projects, \" + row[0] +'  might need more collaboration.'\n",
    "    else:\n",
    "        projectcomment = \"Also, we did some partner projects, \" + row[0] +' should take on more responsibility. Relying on others is not a good habit in improving [in] skills.'\n",
    "        \n",
    "    projectcomment = stu_pronoun(row, projectcomment)\n",
    "    \n",
    "    return projectcomment\n",
    "\n",
    "with open('teacher.csv') as f:\n",
    "    header = f.readline()\n",
    "    for line in f:\n",
    "        print(comment_for_project(line.strip().split(',')))"
   ]
  },
  {
   "cell_type": "code",
   "execution_count": 10,
   "metadata": {
    "collapsed": false
   },
   "outputs": [
    {
     "name": "stdout",
     "output_type": "stream",
     "text": [
      "Her science research project about new ways of training neural networks shows her deep understanding in machine learning. We really enjoy having her this semester! Hope she will continue pursuing her passion in computer science in college!\n",
      "Unlike his other classmates, Jack had very little knowledge in coding coming in class. Regarding the curriculum is getting more challenging toward the end of the year, we are glad to see Jack’s improvement throughout the semester. Although due to his schedule, Jack will not continue learning computer science next spring, we hope he can keep the positivity in all his academics!\n",
      "We are pleased to see Jason’s progress this semester! Jason listened carefully in class, seeked help when they needed it. Although Jason said they struggled in the beginning, we were glad that they caught up quickly. Jason is such a creative coder that they use an innovative approach in his second project that printed the expected results in succinct codes.\n",
      "Elizabeth is a hard-worker. Being one of the few sophomores in class, she is a relatively quiet but respectful listener in class. Her two projects impressed us by how well she combined the knowledge from different units together.\n"
     ]
    }
   ],
   "source": [
    "#Daisy\n",
    "def specific(row):\n",
    "    if row[0] == \"Lauren\":\n",
    "        specific_comment = \"Her science research project about new ways of training neural networks shows her deep understanding in machine learning. We really enjoy having her this semester! Hope she will continue pursuing her passion in computer science in college!\"\n",
    "    if row[0] == \"Jack\":\n",
    "        specific_comment = \"Unlike his other classmates, Jack had very little knowledge in coding coming in class. Regarding the curriculum is getting more challenging toward the end of the year, we are glad to see Jack’s improvement throughout the semester. Although due to his schedule, Jack will not continue learning computer science next spring, we hope he can keep the positivity in all his academics!\"\n",
    "    if row[0] == \"Jason\":\n",
    "        specific_comment = \"We are pleased to see Jason’s progress this semester! Jason listened carefully in class, seeked help when they needed it. Although Jason said they struggled in the beginning, we were glad that they caught up quickly. Jason is such a creative coder that they use an innovative approach in his second project that printed the expected results in succinct codes.\"\n",
    "    if  row[0] == \"Elizabeth\":\n",
    "        specific_comment =  \"Elizabeth is a hard-worker. Being one of the few sophomores in class, she is a relatively quiet but respectful listener in class. Her two projects impressed us by how well she combined the knowledge from different units together.\"\n",
    "    return specific_comment\n",
    "\n",
    "with open('teacher.csv') as csvfile:\n",
    "    header = csvfile.readline()\n",
    "    for line in csvfile:\n",
    "        print(specific(line.strip().split(',')))"
   ]
  },
  {
   "cell_type": "code",
   "execution_count": 8,
   "metadata": {
    "collapsed": false
   },
   "outputs": [
    {
     "name": "stdout",
     "output_type": "stream",
     "text": [
      "As Lauren's teachers, we really enjoyed having her as part of our computer science class. Good luck in her other academics!\n",
      "As Jack's teachers, we really enjoyed having him as part of our computer science class. Good luck in his other academics!\n",
      "As Jason's teachers, we really enjoyed having them as part of our computer science class. Good luck in their other academics!\n",
      "As Elizabeth's teachers, we really enjoyed having her as part of our computer science class. Good luck in her other academics!\n"
     ]
    }
   ],
   "source": [
    "#Daisy\n",
    "def conclusion(row):\n",
    "    ending = \"As \" + row[0] + \"'s teachers, we really enjoyed having [pp] as part of our computer science class. Good luck in [in] other academics!\"\n",
    "    ending = stu_pronoun(row, ending)\n",
    "    return ending\n",
    "with open('teacher.csv') as csvfile:\n",
    "    header = csvfile.readline()\n",
    "    for line in csvfile:\n",
    "        print(conclusion(line.strip().split(',')))"
   ]
  },
  {
   "cell_type": "code",
   "execution_count": 9,
   "metadata": {
    "collapsed": false
   },
   "outputs": [
    {
     "name": "stdout",
     "output_type": "stream",
     "text": [
      "This semester, the computer science class had six units, from basic tools such as strings, creating lists, dictionaries, and using loops, to writing functions and incorporating different functions into solving practical problems. The curriculum was getting more and more challenging throughout the semster. Lauren gets for her final grade, 95.875, which coverts to A. Congrats! We are so proud for her!\n",
      "Lauren is doing superb in tests!  She got a 96.5 overall!\n",
      "It seems that she did stellar work in her problem sets.\n",
      "Also, we did some partner projects, Lauren collaborates so well! She is definetely a helpful partner!\n",
      "Her science research project about new ways of training neural networks shows her deep understanding in machine learning. We really enjoy having her this semester! Hope she will continue pursuing her passion in computer science in college!\n",
      "As Lauren's teachers, we really enjoyed having her as part of our computer science class. Good luck in her other academics!\n",
      "\n",
      "This semester, the computer science class had six units, from basic tools such as strings, creating lists, dictionaries, and using loops, to writing functions and incorporating different functions into solving practical problems. The curriculum was getting more and more challenging throughout the semster. Jack gets for his final grade, 79.75, which converts to C+. He did try.\n",
      "Jack tries but struggles a bit in tests. He got a 69 overall. In particular, the score 68 made us concern.\n",
      "It seems that he might need more help in his problem sets.\n",
      "Also, we did some partner projects, Jack should take on more responsibility. Relying on others is not a good habit in improving his skills.\n",
      "Unlike his other classmates, Jack had very little knowledge in coding coming in class. Regarding the curriculum is getting more challenging toward the end of the year, we are glad to see Jack’s improvement throughout the semester. Although due to his schedule, Jack will not continue learning computer science next spring, we hope he can keep the positivity in all his academics!\n",
      "As Jack's teachers, we really enjoyed having him as part of our computer science class. Good luck in his other academics!\n",
      "\n",
      "This semester, the computer science class had six units, from basic tools such as strings, creating lists, dictionaries, and using loops, to writing functions and incorporating different functions into solving practical problems. The curriculum was getting more and more challenging throughout the semster. Jason gets for their final grade, 90, which converts to A-. Well-done!\n",
      "Jason performs well in tests! They got a 91.5 overall.\n",
      "It seems that they are doing ok in their problem sets.\n",
      "Also, we did some partner projects, Jason are doing great overall! We are proud that they enjoyed doing the project!\n",
      "We are pleased to see Jason’s progress this semester! Jason listened carefully in class, seeked help when they needed it. Although Jason said they struggled in the beginning, we were glad that they caught up quickly. Jason is such a creative coder that they use an innovative approach in their second project that printed the expected results in succinct codes.\n",
      "As Jason's teachers, we really enjoyed having them as part of our computer science class. Good luck in their other academics!\n",
      "\n",
      "This semester, the computer science class had six units, from basic tools such as strings, creating lists, dictionaries, and using loops, to writing functions and incorporating different functions into solving practical problems. The curriculum was getting more and more challenging throughout the semster. Elizabeth gets for her final grade, 86.625, which converts to B. We can see her efforts.\n",
      "It seems that Elizabeth is doing ok in tests. She got a 85.5 overall.\n",
      "It seems that she is doing ok in her problem sets.\n",
      "Also, we did some partner projects, Elizabeth is doing ok overall. We hope to see more communications in her collaboration with her partner.\n",
      "Elizabeth is a hard-worker. Being one of the few sophomores in class, she is a relatively quiet but respectful listener in class. Her works impressed us by how well she could combine knowledge from different units together!\n",
      "As Elizabeth's teachers, we really enjoyed having her as part of our computer science class. Good luck in her other academics!\n",
      "\n"
     ]
    }
   ],
   "source": [
    "#Daisy combined comments\n",
    "def final_grades(row):\n",
    "    general_comment = 'This semester, the computer science class had six units, from basic tools such as strings, creating lists, dictionaries, and using loops, to writing functions and incorporating different functions into solving practical problems.'\n",
    "    opening = \" The curriculum was getting more and more challenging throughout the semster\"\n",
    "    percentage = float(row[16])\n",
    "    if percentage >= 93:\n",
    "        lettergrade = ', which coverts to A. Congrats! We are so proud for [pp]!'\n",
    "    elif percentage >= 90:\n",
    "        lettergrade=', which converts to A-. Well-done!'\n",
    "    elif percentage >= 87:\n",
    "        lettergrade=', which converts to B+. You made it through!'\n",
    "    elif percentage >= 83:\n",
    "        lettergrade=', which converts to B. We can see [in] efforts.'\n",
    "    elif percentage >= 80:\n",
    "        lettergrade=', which converts to B-. We can see [in] efforts.'\n",
    "    elif percentage >= 77:\n",
    "        lettergrade=', which converts to C+. [Pro] did try.'\n",
    "    elif percentage >= 73:\n",
    "        lettergrade=', which converts to C. [Pro] did try.' \n",
    "    elif percentage >= 70:\n",
    "        lettergrade=', which converts to C-. [Pro] did try.'   \n",
    "    else:\n",
    "        lettergrade=', which converts to F. We are sorry for [pp].'\n",
    "\n",
    "    overallet = general_comment + opening + '. ' + row[0] +' gets for [in] final grade, '+ row[16]+ lettergrade \n",
    "    overallet = stu_pronoun(row, overallet)\n",
    "    return overallet\n",
    "\n",
    "def comment_for_tests (row):\n",
    "    comment = ''\n",
    "    particular_comment = ''\n",
    "    if int(float(row[11])) >= 93:\n",
    "        comment = row[0] + ' is doing superb in tests!  [Pro] got a ' + row[11] + ' overall!'\n",
    "    elif int(float(row[11])) >= 90:\n",
    "        comment = row[0] + ' performs well in tests! [Pro] got a ' + row[11] + ' overall.'\n",
    "    elif int(float(row[11])) >= 85:\n",
    "        comment = 'It seems that ' + row[0] + ' is doing ok in tests. [Pro] got a ' + row[11] + ' overall.'\n",
    "    elif int(int(float(row[11]))) >= 80:\n",
    "        comment = row[0] + ' can catch up the class pace. [Pro] got a ' + row[11] + ' overall.'\n",
    "    elif int(int(float(row[11]))) <80:\n",
    "        comment = row[0] + ' tries but struggles a bit in tests. [Pro] got a ' + row[11] + ' overall.'\n",
    "        for i in row[9:10]:\n",
    "            if int(i) < 80:\n",
    "                particular_comment = \" In particular, \" + \"the score \"+ i + \" made us concern.\"\n",
    "\n",
    "    comment = comment + particular_comment    \n",
    "    comment = stu_pronoun(row, comment)\n",
    "    \n",
    "    return comment\n",
    "\n",
    "def comment_for_ps(row):\n",
    "    particular = \"\"\n",
    "    if int(float(row[8])) >= 93:\n",
    "        thecomment = ' did stellar work'\n",
    "    elif int(float(row[8])) >= 90:\n",
    "        thecomment = ' really worked hard'\n",
    "    elif int(float(row[8])) >= 85:\n",
    "        thecomment = ' [be] doing ok'\n",
    "    elif int(int(float(row[8]))) >= 80:\n",
    "        thecomment = ' might need more help'\n",
    "    elif int(int(float(row[8]))) <80:\n",
    "        for each in row[6:7]:\n",
    "            if each < 80:\n",
    "                particular = \"Particularly the\" + index[each]\n",
    "        thecomment = ' struggles' + particular\n",
    "\n",
    "    commentforps = 'It seems that [pro]' + thecomment + ' in [in] problem sets.'\n",
    "    \n",
    "    commentforps = stu_pronoun(row, commentforps)\n",
    "    return commentforps\n",
    "\n",
    "def comment_for_project(row):\n",
    "    if int(float(row[11])) >= 93:\n",
    "        projectcomment = \"Also, we did some partner projects, \" + row[0]+ ' collaborate[plural] so well! [Pro] is definetely a helpful partner!'\n",
    "    elif int(float(row[11])) >= 90:\n",
    "        projectcomment = \"Also, we did some partner projects, \" + row[0]+ ' [be] doing great overall! We are proud that [pro] enjoyed doing the project!'\n",
    "    elif int(float(row[11])) >= 85:\n",
    "        projectcomment = 'Also, we did some partner projects, ' + row[0] + ' [be] doing ok overall. We hope to see more communications in [in] collaboration with [in] partner.'\n",
    "    elif int(int(float(row[11]))) >= 80:\n",
    "        projectcoment = \"Also, we did some partner projects, \" + row[0] +'  might need more collaboration.'\n",
    "    else:\n",
    "        projectcomment = \"Also, we did some partner projects, \" + row[0] +' should take on more responsibility. Relying on others is not a good habit in improving [in] skills.'\n",
    "        \n",
    "    projectcomment = stu_pronoun(row, projectcomment)\n",
    "    \n",
    "    return projectcomment\n",
    "\n",
    "def specific(row):\n",
    "    if row[0] == \"Lauren\":\n",
    "        specific_comment = \"Her science research project about new ways of training neural networks shows her deep understanding in machine learning. We really enjoy having her this semester! Hope she will continue pursuing her passion in computer science in college!\"\n",
    "    if row[0] == \"Jack\":\n",
    "        specific_comment = \"Unlike his other classmates, Jack had very little knowledge in coding coming in class. Regarding the curriculum is getting more challenging toward the end of the year, we are glad to see Jack’s improvement throughout the semester. Although due to his schedule, Jack will not continue learning computer science next spring, we hope he can keep the positivity in all his academics!\"\n",
    "    if row[0] == \"Jason\":\n",
    "        specific_comment = \"We are pleased to see Jason’s progress this semester! Jason listened carefully in class, seeked help when they needed it. Although Jason said they struggled in the beginning, we were glad that they caught up quickly. Jason is such a creative coder that they use an innovative approach in their second project that printed the expected results in succinct codes.\"\n",
    "    if  row[0] == \"Elizabeth\":\n",
    "        specific_comment =  \"Elizabeth is a hard-worker. Being one of the few sophomores in class, she is a relatively quiet but respectful listener in class. Her works impressed us by how well she could combine knowledge from different units together!\"\n",
    "    return specific_comment\n",
    "\n",
    "def conclusion(row):\n",
    "    ending = \"As \" + row[0] + \"'s teachers, we really enjoyed having [pp] as part of our computer science class. Good luck in [in] other academics!\"\n",
    "    ending = stu_pronoun(row, ending)\n",
    "    return ending\n",
    "\n",
    "with open('teacher.csv') as csvfile:\n",
    "    header = csvfile.readline()\n",
    "    for line in csvfile:\n",
    "        print(final_grades(line.strip().split(',')))\n",
    "        print(comment_for_tests(line.strip().split(',')))\n",
    "        print(comment_for_ps(line.strip().split(',')))\n",
    "        print(comment_for_project(line.strip().split(',')))\n",
    "        print(specific(line.strip().split(',')))\n",
    "        print(conclusion(line.strip().split(',')))\n",
    "        print(\"\")"
   ]
  },
  {
   "cell_type": "code",
   "execution_count": 0,
   "metadata": {
    "collapsed": false
   },
   "outputs": [
   ],
   "source": [
   ]
  }
 ],
 "metadata": {
  "kernelspec": {
   "display_name": "Python 3 (system-wide)",
   "language": "python",
   "metadata": {
    "cocalc": {
     "description": "Python 3 programming language",
     "priority": 100,
     "url": "https://www.python.org/"
    }
   },
   "name": "python3"
  }
 },
 "nbformat": 4,
 "nbformat_minor": 0
}